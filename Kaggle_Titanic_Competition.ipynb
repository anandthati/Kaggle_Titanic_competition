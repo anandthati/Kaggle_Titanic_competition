{
 "cells": [
  {
   "cell_type": "code",
   "execution_count": 210,
   "metadata": {},
   "outputs": [],
   "source": [
    "from sklearn import svm\n",
    "import pandas as pd\n",
    "from sklearn.model_selection import train_test_split\n",
    "from sklearn import linear_model\n",
    "import numpy as np"
   ]
  },
  {
   "cell_type": "code",
   "execution_count": 211,
   "metadata": {},
   "outputs": [],
   "source": [
    "train_raw = pd.read_csv('train(1).csv')"
   ]
  },
  {
   "cell_type": "code",
   "execution_count": 212,
   "metadata": {},
   "outputs": [],
   "source": [
    "def clean(x):\n",
    "    if x == 'male':\n",
    "        return 1\n",
    "    else:\n",
    "        return 0"
   ]
  },
  {
   "cell_type": "code",
   "execution_count": 213,
   "metadata": {},
   "outputs": [],
   "source": [
    "train_raw['Sex'] = train_raw['Sex'].apply(clean)\n",
    "data1 = train_raw.drop(['Name','Ticket','Cabin','Embarked'],axis=1)\n",
    "data1.fillna(0,inplace=True)\n",
    "target = data1['Survived']\n",
    "data = data1.drop(['Survived'],axis=1)"
   ]
  },
  {
   "cell_type": "code",
   "execution_count": 214,
   "metadata": {},
   "outputs": [
    {
     "name": "stdout",
     "output_type": "stream",
     "text": [
      "('Accuracy in % is : ', 35.19553072625698)\n"
     ]
    }
   ],
   "source": [
    "X_train,X_test,y_train,y_test = train_test_split(data,target,test_size=0.2)\n",
    "clf = linear_model.SGDClassifier()\n",
    "clf.fit(X_train,y_train)\n",
    "y_pred = np.sum(clf.predict(X_test) == y_test)\n",
    "print (\"Accuracy in % is : \",float(y_pred)/len(y_test)*100)"
   ]
  },
  {
   "cell_type": "code",
   "execution_count": 215,
   "metadata": {},
   "outputs": [],
   "source": [
    "test = pd.read_csv('test(1).csv')\n",
    "test = test.drop(['Name','Cabin','Ticket','Embarked'],axis=1)\n",
    "test['Sex'] = test['Sex'].apply(clean)\n",
    "test.fillna(0,inplace=True)"
   ]
  },
  {
   "cell_type": "code",
   "execution_count": 232,
   "metadata": {},
   "outputs": [],
   "source": [
    "y_test_pred = {}\n",
    "for index,row in test.iterrows():\n",
    "    y_test_pred.update({row['PassengerId']:clf.predict([row])})"
   ]
  },
  {
   "cell_type": "code",
   "execution_count": 233,
   "metadata": {},
   "outputs": [],
   "source": [
    "P_Id = []\n",
    "P_S = []\n",
    "for key in y_test_pred:\n",
    "    P_Id.append(int(key))\n",
    "    P_S.append(y_test_pred[key][0])\n",
    "\n",
    "T_results = pd.DataFrame({'PassengerId':P_Id,'Survived':P_S})\n",
    "T_results = T_results.sort_values(T_results.columns[0], ascending = True)\n",
    "T_results.index = [range(0,len(T_results))]\n",
    "T_results.to_csv('Titanic_Test_results_RF.csv',index=False)"
   ]
  },
  {
   "cell_type": "code",
   "execution_count": 218,
   "metadata": {},
   "outputs": [
    {
     "name": "stdout",
     "output_type": "stream",
     "text": [
      "('Accuracy in % is : ', 59.217877094972074)\n"
     ]
    }
   ],
   "source": [
    "from sklearn.neighbors import KNeighborsClassifier\n",
    "X_train,X_test,y_train,y_test = train_test_split(data,target,test_size=0.2)\n",
    "clf = KNeighborsClassifier(3)\n",
    "clf.fit(X_train,y_train)\n",
    "y_pred = np.sum(clf.predict(X_test) == y_test)\n",
    "print (\"Accuracy in % is : \",float(y_pred)/len(y_test)*100)"
   ]
  },
  {
   "cell_type": "code",
   "execution_count": 219,
   "metadata": {},
   "outputs": [
    {
     "name": "stdout",
     "output_type": "stream",
     "text": [
      "('Accuracy in % is : ', 79.88826815642457)\n"
     ]
    }
   ],
   "source": [
    "from sklearn.tree import DecisionTreeClassifier\n",
    "X_train,X_test,y_train,y_test = train_test_split(data,target,test_size=0.2)\n",
    "clf = DecisionTreeClassifier(max_depth=5)\n",
    "clf.fit(X_train,y_train)\n",
    "y_pred = np.sum(clf.predict(X_test) == y_test)\n",
    "print (\"Accuracy in % is : \",float(y_pred)/len(y_test)*100)"
   ]
  },
  {
   "cell_type": "code",
   "execution_count": 220,
   "metadata": {},
   "outputs": [
    {
     "name": "stdout",
     "output_type": "stream",
     "text": [
      "('Accuracy in % is : ', 80.44692737430168)\n"
     ]
    }
   ],
   "source": [
    "from sklearn.naive_bayes import GaussianNB\n",
    "X_train,X_test,y_train,y_test = train_test_split(data,target,test_size=0.2)\n",
    "clf = GaussianNB()\n",
    "clf.fit(X_train,y_train)\n",
    "y_pred = np.sum(clf.predict(X_test) == y_test)\n",
    "print (\"Accuracy in % is : \",float(y_pred)/len(y_test)*100)"
   ]
  },
  {
   "cell_type": "code",
   "execution_count": 221,
   "metadata": {},
   "outputs": [
    {
     "name": "stdout",
     "output_type": "stream",
     "text": [
      "('Accuracy in % is : ', 69.83240223463687)\n"
     ]
    }
   ],
   "source": [
    "from sklearn.neural_network import MLPClassifier\n",
    "\n",
    "X_train,X_test,y_train,y_test = train_test_split(data,target,test_size=0.2)\n",
    "clf = MLPClassifier(alpha=1)\n",
    "clf.fit(X_train,y_train)\n",
    "y_pred = np.sum(clf.predict(X_test) == y_test)\n",
    "print (\"Accuracy in % is : \",float(y_pred)/len(y_test)*100)"
   ]
  },
  {
   "cell_type": "code",
   "execution_count": 222,
   "metadata": {},
   "outputs": [
    {
     "name": "stdout",
     "output_type": "stream",
     "text": [
      "('Accuracy in % is : ', 64.80446927374301)\n"
     ]
    }
   ],
   "source": [
    "from sklearn.svm import SVC\n",
    "X_train,X_test,y_train,y_test = train_test_split(data,target,test_size=0.2)\n",
    "clf = SVC(gamma=2, C=1)\n",
    "clf.fit(X_train,y_train)\n",
    "y_pred = np.sum(clf.predict(X_test) == y_test)\n",
    "print (\"Accuracy in % is : \",float(y_pred)/len(y_test)*100)"
   ]
  },
  {
   "cell_type": "code",
   "execution_count": 231,
   "metadata": {},
   "outputs": [
    {
     "name": "stdout",
     "output_type": "stream",
     "text": [
      "('Accuracy in % is : ', 84.91620111731844)\n"
     ]
    }
   ],
   "source": [
    "from sklearn.ensemble import RandomForestClassifier, AdaBoostClassifier\n",
    "X_train,X_test,y_train,y_test = train_test_split(data,target,test_size=0.2)\n",
    "clf =  RandomForestClassifier(max_depth=15)\n",
    "clf.fit(X_train,y_train)\n",
    "y_pred = np.sum(clf.predict(X_test) == y_test)\n",
    "print (\"Accuracy in % is : \",float(y_pred)/len(y_test)*100)"
   ]
  },
  {
   "cell_type": "code",
   "execution_count": null,
   "metadata": {},
   "outputs": [],
   "source": []
  },
  {
   "cell_type": "code",
   "execution_count": null,
   "metadata": {},
   "outputs": [],
   "source": []
  }
 ],
 "metadata": {
  "kernelspec": {
   "display_name": "Python 3",
   "language": "python",
   "name": "python3"
  },
  "language_info": {
   "codemirror_mode": {
    "name": "ipython",
    "version": 2
   },
   "file_extension": ".py",
   "mimetype": "text/x-python",
   "name": "python",
   "nbconvert_exporter": "python",
   "pygments_lexer": "ipython2",
   "version": "2.7.12"
  }
 },
 "nbformat": 4,
 "nbformat_minor": 2
}
